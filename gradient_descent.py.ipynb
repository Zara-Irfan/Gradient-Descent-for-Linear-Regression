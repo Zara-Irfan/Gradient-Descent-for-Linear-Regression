{
 "cells": [
  {
   "cell_type": "markdown",
   "id": "83c71bf3-4121-4336-ae6c-9dc681b5f1d2",
   "metadata": {},
   "source": [
    "<p style=\"color:green; font-size:20px; font-weight:bold;\">\n",
    "These imports are essential as we’ll use them throughout the project\n",
    "</p>"
   ]
  },
  {
   "cell_type": "code",
   "execution_count": 7,
   "id": "c1e0b2a1-7db6-4c98-930b-77d9ea6cc562",
   "metadata": {},
   "outputs": [],
   "source": [
    "import numpy as np\n",
    "import pandas as pd\n",
    "import matplotlib.pyplot as plt\n",
    "%matplotlib inline"
   ]
  },
  {
   "cell_type": "code",
   "execution_count": 8,
   "id": "c55a7843-5e54-4815-9c2d-85c9f557e368",
   "metadata": {},
   "outputs": [
    {
     "data": {
      "text/html": [
       "<div>\n",
       "<style scoped>\n",
       "    .dataframe tbody tr th:only-of-type {\n",
       "        vertical-align: middle;\n",
       "    }\n",
       "\n",
       "    .dataframe tbody tr th {\n",
       "        vertical-align: top;\n",
       "    }\n",
       "\n",
       "    .dataframe thead th {\n",
       "        text-align: right;\n",
       "    }\n",
       "</style>\n",
       "<table border=\"1\" class=\"dataframe\">\n",
       "  <thead>\n",
       "    <tr style=\"text-align: right;\">\n",
       "      <th></th>\n",
       "      <th>area</th>\n",
       "      <th>bedrooms</th>\n",
       "      <th>price</th>\n",
       "    </tr>\n",
       "  </thead>\n",
       "  <tbody>\n",
       "    <tr>\n",
       "      <th>17</th>\n",
       "      <td>1540</td>\n",
       "      <td>3</td>\n",
       "      <td>60.0</td>\n",
       "    </tr>\n",
       "    <tr>\n",
       "      <th>16</th>\n",
       "      <td>1180</td>\n",
       "      <td>3</td>\n",
       "      <td>48.0</td>\n",
       "    </tr>\n",
       "    <tr>\n",
       "      <th>3</th>\n",
       "      <td>1521</td>\n",
       "      <td>3</td>\n",
       "      <td>75.0</td>\n",
       "    </tr>\n",
       "    <tr>\n",
       "      <th>8</th>\n",
       "      <td>1310</td>\n",
       "      <td>3</td>\n",
       "      <td>50.0</td>\n",
       "    </tr>\n",
       "    <tr>\n",
       "      <th>12</th>\n",
       "      <td>1000</td>\n",
       "      <td>2</td>\n",
       "      <td>38.0</td>\n",
       "    </tr>\n",
       "  </tbody>\n",
       "</table>\n",
       "</div>"
      ],
      "text/plain": [
       "    area  bedrooms  price\n",
       "17  1540         3   60.0\n",
       "16  1180         3   48.0\n",
       "3   1521         3   75.0\n",
       "8   1310         3   50.0\n",
       "12  1000         2   38.0"
      ]
     },
     "execution_count": 8,
     "metadata": {},
     "output_type": "execute_result"
    }
   ],
   "source": [
    "df = pd.read_csv(r\"C:\\Users\\muham\\Downloads\\homeprices_banglore.csv\")\n",
    "df.sample(5)"
   ]
  },
  {
   "cell_type": "markdown",
   "id": "e7d04670-9d60-43cd-b051-a35dd5bd12b3",
   "metadata": {},
   "source": [
    "<p style=\"color:blue; font-size:20px; font-weight:bold;\">\n",
    "This code normalizes all input features (except the target) to a 0–1 range, preparing them for faster and more stable model training.\n",
    "</p>"
   ]
  },
  {
   "cell_type": "code",
   "execution_count": 9,
   "id": "bb727c28-29c0-4f28-b32e-74497486ae61",
   "metadata": {},
   "outputs": [
    {
     "data": {
      "text/plain": [
       "array([[0.08827586, 0.25      ],\n",
       "       [0.62068966, 0.75      ],\n",
       "       [0.22068966, 0.5       ],\n",
       "       [0.24862069, 0.5       ],\n",
       "       [0.13793103, 0.25      ],\n",
       "       [0.12758621, 0.25      ],\n",
       "       [0.6662069 , 0.75      ],\n",
       "       [0.86206897, 0.75      ],\n",
       "       [0.17586207, 0.5       ],\n",
       "       [1.        , 1.        ],\n",
       "       [0.34482759, 0.5       ],\n",
       "       [0.68448276, 0.75      ],\n",
       "       [0.06896552, 0.25      ],\n",
       "       [0.10344828, 0.25      ],\n",
       "       [0.5       , 0.5       ],\n",
       "       [0.12931034, 0.25      ],\n",
       "       [0.13103448, 0.5       ],\n",
       "       [0.25517241, 0.5       ],\n",
       "       [0.67931034, 0.5       ],\n",
       "       [0.        , 0.        ]])"
      ]
     },
     "execution_count": 9,
     "metadata": {},
     "output_type": "execute_result"
    }
   ],
   "source": [
    "from sklearn import preprocessing\n",
    "\n",
    "sx = preprocessing.MinMaxScaler()\n",
    "sy = preprocessing.MinMaxScaler()\n",
    "\n",
    "scaled_X = sx.fit_transform(df.drop('price', axis = 'columns'))\n",
    "scaled_X"
   ]
  },
  {
   "cell_type": "code",
   "execution_count": 10,
   "id": "f409e0ab-3dac-43dc-953a-1246061049ea",
   "metadata": {},
   "outputs": [],
   "source": [
    "w = np.ones(shape=(2))"
   ]
  },
  {
   "cell_type": "code",
   "execution_count": 11,
   "id": "34b2248a-7357-400f-a202-86daceec26cf",
   "metadata": {},
   "outputs": [
    {
     "data": {
      "text/plain": [
       "array([[0.08827586, 0.62068966, 0.22068966, 0.24862069, 0.13793103,\n",
       "        0.12758621, 0.6662069 , 0.86206897, 0.17586207, 1.        ,\n",
       "        0.34482759, 0.68448276, 0.06896552, 0.10344828, 0.5       ,\n",
       "        0.12931034, 0.13103448, 0.25517241, 0.67931034, 0.        ],\n",
       "       [0.25      , 0.75      , 0.5       , 0.5       , 0.25      ,\n",
       "        0.25      , 0.75      , 0.75      , 0.5       , 1.        ,\n",
       "        0.5       , 0.75      , 0.25      , 0.25      , 0.5       ,\n",
       "        0.25      , 0.5       , 0.5       , 0.5       , 0.        ]])"
      ]
     },
     "execution_count": 11,
     "metadata": {},
     "output_type": "execute_result"
    }
   ],
   "source": [
    "scaled_X.T"
   ]
  },
  {
   "cell_type": "code",
   "execution_count": 12,
   "id": "b8b42962-c6a8-4668-adc2-755b2e4f4620",
   "metadata": {},
   "outputs": [
    {
     "data": {
      "text/plain": [
       "array([0.33827586, 1.37068966, 0.72068966, 0.74862069, 0.38793103,\n",
       "       0.37758621, 1.4162069 , 1.61206897, 0.67586207, 2.        ,\n",
       "       0.84482759, 1.43448276, 0.31896552, 0.35344828, 1.        ,\n",
       "       0.37931034, 0.63103448, 0.75517241, 1.17931034, 0.        ])"
      ]
     },
     "execution_count": 12,
     "metadata": {},
     "output_type": "execute_result"
    }
   ],
   "source": [
    "np.dot(w, scaled_X.T)"
   ]
  },
  {
   "cell_type": "code",
   "execution_count": 13,
   "id": "6b0e2989-b11f-4f58-b64a-95a671dddd11",
   "metadata": {},
   "outputs": [
    {
     "data": {
      "text/plain": [
       "array([-9, -3, -4])"
      ]
     },
     "execution_count": 13,
     "metadata": {},
     "output_type": "execute_result"
    }
   ],
   "source": [
    "a = np.array([1,2,3])\n",
    "b = np.array([10,5,7])\n",
    "a-b"
   ]
  },
  {
   "cell_type": "code",
   "execution_count": 14,
   "id": "e09755a6-2834-4cff-8f34-cabb02086fcb",
   "metadata": {},
   "outputs": [
    {
     "data": {
      "text/plain": [
       "np.float64(35.333333333333336)"
      ]
     },
     "execution_count": 14,
     "metadata": {},
     "output_type": "execute_result"
    }
   ],
   "source": [
    "np.mean(np.square(a-b))"
   ]
  },
  {
   "cell_type": "markdown",
   "id": "de29ea57-ccb8-4ce1-9fb3-c32addcc9065",
   "metadata": {},
   "source": [
    "This code standardizes features and target, then trains a linear regression model using batch gradient descent to learn weights and bias while minimizing mean squared error."
   ]
  },
  {
   "cell_type": "code",
   "execution_count": 15,
   "id": "33bc9ff0-3654-4fa7-ae89-a8a984d76d03",
   "metadata": {},
   "outputs": [
    {
     "name": "stdout",
     "output_type": "stream",
     "text": [
      "Weights: [0.5 0.5]\n",
      "Bias: 2.7755575615628914e-19\n",
      "Final Cost: 2.0262391064768183e-18\n"
     ]
    }
   ],
   "source": [
    "import numpy as np\n",
    "from sklearn.preprocessing import StandardScaler\n",
    "\n",
    "# Example dataset (features and labels)\n",
    "X = np.array([[1, 1],\n",
    "              [2, 2],\n",
    "              [3, 3],\n",
    "              [4, 4]], dtype=float)\n",
    "\n",
    "y = np.array([2, 4, 6, 8], dtype=float)   # target values\n",
    "\n",
    "# Scale features\n",
    "scaler_X = StandardScaler()\n",
    "scaled_X = scaler_X.fit_transform(X)\n",
    "\n",
    "# Scale target\n",
    "scaler_y = StandardScaler()\n",
    "scaled_y = scaler_y.fit_transform(y.reshape(-1, 1)).flatten()\n",
    "\n",
    "# Your batch gradient descent function (already corrected earlier)\n",
    "def batch_gradient_descent(X, y_true, epochs, learning_rate=0.01):\n",
    "    number_of_features = X.shape[1]\n",
    "\n",
    "    w = np.ones(shape=(number_of_features,))\n",
    "    b = 0\n",
    "    total_samples = X.shape[0]\n",
    "\n",
    "    cost_list = []\n",
    "    epoch_list = []\n",
    "    \n",
    "    for i in range(epochs):\n",
    "        y_predicted = np.dot(X, w) + b\n",
    "\n",
    "        w_grad = -(2/total_samples) * (X.T.dot(y_true - y_predicted))\n",
    "        b_grad = -(2/total_samples) * np.sum(y_true - y_predicted)\n",
    "\n",
    "        w = w - learning_rate * w_grad\n",
    "        b = b - learning_rate * b_grad\n",
    "\n",
    "        cost = np.mean(np.square(y_true - y_predicted))\n",
    "\n",
    "        if i % 10 == 0:\n",
    "            cost_list.append(cost)\n",
    "            epoch_list.append(i)\n",
    "\n",
    "    return w, b, cost, cost_list, epoch_list\n",
    "\n",
    "# Run training\n",
    "w, b, cost, cost_list, epoch_list = batch_gradient_descent(\n",
    "    scaled_X,\n",
    "    scaled_y,\n",
    "    epochs=500\n",
    ")\n",
    "\n",
    "print(\"Weights:\", w)\n",
    "print(\"Bias:\", b)\n",
    "print(\"Final Cost:\", cost)\n"
   ]
  },
  {
   "cell_type": "markdown",
   "id": "b7a04f5c-062a-4e65-91ce-70ce838dd9a4",
   "metadata": {},
   "source": [
    "We plot the cost versus epochs to visualize how the model’s error decreases during training."
   ]
  },
  {
   "cell_type": "code",
   "execution_count": 17,
   "id": "aa4da945-81d4-4600-a217-d7c87e4fae26",
   "metadata": {},
   "outputs": [
    {
     "data": {
      "image/png": "[encoded data removed]",
      "text/plain": [
       "<Figure size 640x480 with 1 Axes>"
      ]
     },
     "metadata": {},
     "output_type": "display_data"
    }
   ],
   "source": [
    "plt.xlabel(\"epoch\")\n",
    "plt.ylabel(\"cost\")\n",
    "plt.plot(epoch_list, cost_list)\n",
    "plt.show()"
   ]
  },
  {
   "cell_type": "code",
   "execution_count": 33,
   "id": "e7184474-7027-442b-bbf0-523c64630d1c",
   "metadata": {},
   "outputs": [
    {
     "name": "stderr",
     "output_type": "stream",
     "text": [
      "C:\\Users\\muham\\anaconda3\\Lib\\site-packages\\sklearn\\utils\\validation.py:2739: UserWarning: X does not have valid feature names, but MinMaxScaler was fitted with feature names\n",
      "  warnings.warn(\n"
     ]
    },
    {
     "data": {
      "text/plain": [
       "array([[0.62068966, 0.75      ]])"
      ]
     },
     "execution_count": 33,
     "metadata": {},
     "output_type": "execute_result"
    }
   ],
   "source": [
    "sx.transform([[2600,4]])"
   ]
  },
  {
   "cell_type": "code",
   "execution_count": 31,
   "id": "f3419189-4dcc-4bfd-8a62-c2c98bbd1394",
   "metadata": {},
   "outputs": [
    {
     "data": {
      "text/plain": [
       "array([[1.]])"
      ]
     },
     "execution_count": 31,
     "metadata": {},
     "output_type": "execute_result"
    }
   ],
   "source": [
    "from sklearn.preprocessing import MinMaxScaler\n",
    "\n",
    "scaler = MinMaxScaler()  # create scaler\n",
    "scaler.min_, scaler.scale_ = 0, 1  # dummy values to avoid fitting\n",
    "scaler.inverse_transform([[1]])  # now this works\n"
   ]
  },
  {
   "cell_type": "markdown",
   "id": "7ecf7e48-af05-4088-8566-4e7bf8c7411f",
   "metadata": {},
   "source": [
    "This code fits a MinMaxScaler to the target values (prices) and demonstrates how to convert a scaled value back to the original price using inverse_transform."
   ]
  },
  {
   "cell_type": "code",
   "execution_count": 37,
   "id": "b8f8b5e3-3a22-4988-bd1a-dec035c43dd3",
   "metadata": {},
   "outputs": [
    {
     "name": "stdout",
     "output_type": "stream",
     "text": [
      "[[275000.]]\n"
     ]
    }
   ],
   "source": [
    "from sklearn.preprocessing import MinMaxScaler\n",
    "import numpy as np\n",
    "\n",
    "# Target values (prices)\n",
    "y = np.array([200000, 250000, 300000, 350000])\n",
    "\n",
    "sy = MinMaxScaler()\n",
    "sy.fit(y.reshape(-1, 1))  # reshape to 2D\n",
    "\n",
    "# Example scaled value\n",
    "scaled_price = 0.5\n",
    "original_price = sy.inverse_transform([[scaled_price]])\n",
    "print(original_price)\n"
   ]
  },
  {
   "cell_type": "code",
   "execution_count": 39,
   "id": "d04398db-8a0f-4064-b9e2-cbff7ee9eee5",
   "metadata": {},
   "outputs": [
    {
     "name": "stderr",
     "output_type": "stream",
     "text": [
      "C:\\Users\\muham\\anaconda3\\Lib\\site-packages\\sklearn\\utils\\validation.py:2739: UserWarning: X does not have valid feature names, but MinMaxScaler was fitted with feature names\n",
      "  warnings.warn(\n"
     ]
    },
    {
     "data": {
      "text/plain": [
       "array([[223922.41382579]])"
      ]
     },
     "execution_count": 39,
     "metadata": {},
     "output_type": "execute_result"
    }
   ],
   "source": [
    "predict(1000,2,w,b)"
   ]
  },
  {
   "cell_type": "code",
   "execution_count": 40,
   "id": "9aeb44ce-7ec4-4f63-a223-4ca9a49c817d",
   "metadata": {},
   "outputs": [
    {
     "name": "stderr",
     "output_type": "stream",
     "text": [
      "C:\\Users\\muham\\anaconda3\\Lib\\site-packages\\sklearn\\utils\\validation.py:2739: UserWarning: X does not have valid feature names, but MinMaxScaler was fitted with feature names\n",
      "  warnings.warn(\n"
     ]
    },
    {
     "data": {
      "text/plain": [
       "array([[255603.44835185]])"
      ]
     },
     "execution_count": 40,
     "metadata": {},
     "output_type": "execute_result"
    }
   ],
   "source": [
    "predict(1500,3,w,b)"
   ]
  },
  {
   "cell_type": "code",
   "execution_count": 42,
   "id": "58491937-e9ac-4334-af00-a05269857ca0",
   "metadata": {},
   "outputs": [
    {
     "data": {
      "text/plain": [
       "6"
      ]
     },
     "execution_count": 42,
     "metadata": {},
     "output_type": "execute_result"
    }
   ],
   "source": [
    "import random\n",
    "random.randint(0,6)"
   ]
  },
  {
   "cell_type": "markdown",
   "id": "6e32e53d-39a6-4415-a626-627cf3e255cd",
   "metadata": {},
   "source": [
    "This function trains a linear regression model using stochastic gradient descent, updating weights and bias for one random sample per iteration, and tracks the mean squared error every 100 epochs."
   ]
  },
  {
   "cell_type": "code",
   "execution_count": 44,
   "id": "a8051a11-7552-4119-9518-a2c9bb41d2a0",
   "metadata": {},
   "outputs": [],
   "source": [
    "import numpy as np\n",
    "\n",
    "def stochastic_gradient_descent(X, y, epochs=10000, learning_rate=0.01, verbose=False):\n",
    "    \"\"\"\n",
    "    Vectorized SGD for linear regression.\n",
    "    \n",
    "    Parameters:\n",
    "    X : np.array, shape (n_samples, n_features)\n",
    "        Feature matrix (already scaled if needed)\n",
    "    y : np.array, shape (n_samples,)\n",
    "        Target values\n",
    "    epochs : int\n",
    "        Number of iterations\n",
    "    learning_rate : float\n",
    "        Learning rate\n",
    "    verbose : bool\n",
    "        If True, prints cost every 100 iterations\n",
    "        \n",
    "    Returns:\n",
    "    w : np.array, shape (n_features,)\n",
    "        Learned weights\n",
    "    b : float\n",
    "        Learned bias\n",
    "    cost_list : list\n",
    "        List of cost recorded every 100 iterations\n",
    "    \"\"\"\n",
    "    \n",
    "    n_samples, n_features = X.shape\n",
    "    w = np.ones(n_features)\n",
    "    b = 0\n",
    "    cost_list = []\n",
    "    \n",
    "    for i in range(epochs):\n",
    "        # Pick a random sample\n",
    "        idx = np.random.randint(0, n_samples)\n",
    "        x_i = X[idx]\n",
    "        y_i = y[idx]\n",
    "        \n",
    "        # Prediction\n",
    "        y_pred = np.dot(w, x_i) + b\n",
    "        \n",
    "        # Gradients\n",
    "        w_grad = -2 * x_i * (y_i - y_pred)\n",
    "        b_grad = -2 * (y_i - y_pred)\n",
    "        \n",
    "        # Update weights and bias\n",
    "        w -= learning_rate * w_grad\n",
    "        b -= learning_rate * b_grad\n",
    "        \n",
    "        # Record cost every 100 iterations\n",
    "        if i % 100 == 0:\n",
    "            y_pred_all = np.dot(X, w) + b\n",
    "            cost = np.mean((y - y_pred_all) ** 2)\n",
    "            cost_list.append(cost)\n",
    "            if verbose:\n",
    "                print(f\"Epoch {i}: Cost={cost}\")\n",
    "    \n",
    "    return w, b, cost_list\n"
   ]
  },
  {
   "cell_type": "markdown",
   "id": "31457118-26cd-4b40-976c-94de9abf6a2e",
   "metadata": {},
   "source": [
    "This code runs stochastic gradient descent on the scaled data to learn the model’s weights and bias, printing the final weights, bias, and last recorded cost."
   ]
  },
  {
   "cell_type": "code",
   "execution_count": 45,
   "id": "d49ec713-4a6e-48ed-9942-ed2d35f2de48",
   "metadata": {},
   "outputs": [
    {
     "name": "stdout",
     "output_type": "stream",
     "text": [
      "Epoch 0: Cost=0.8619040000000001\n",
      "Epoch 100: Cost=0.00028945891746748694\n",
      "Epoch 200: Cost=3.6908588717471366e-07\n",
      "Epoch 300: Cost=8.204840024193046e-09\n",
      "Epoch 400: Cost=1.5642548896723297e-10\n",
      "Epoch 500: Cost=2.3050545604874946e-12\n",
      "Epoch 600: Cost=3.957786847659256e-14\n",
      "Epoch 700: Cost=6.31268296943234e-16\n",
      "Epoch 800: Cost=1.1447139362500546e-17\n",
      "Epoch 900: Cost=1.9572815772049048e-19\n",
      "Epoch 1000: Cost=3.718423015358974e-21\n",
      "Epoch 1100: Cost=6.733103869308651e-23\n",
      "Epoch 1200: Cost=1.083137091970312e-24\n",
      "Epoch 1300: Cost=1.8218758013518823e-26\n",
      "Epoch 1400: Cost=4.096483806590761e-28\n",
      "Epoch 1500: Cost=5.9965754748440976e-30\n",
      "Epoch 1600: Cost=8.011868568650901e-32\n",
      "Epoch 1700: Cost=1.5407439555097887e-33\n",
      "Epoch 1800: Cost=0.0\n",
      "Epoch 1900: Cost=0.0\n",
      "Epoch 2000: Cost=0.0\n",
      "Epoch 2100: Cost=0.0\n",
      "Epoch 2200: Cost=0.0\n",
      "Epoch 2300: Cost=0.0\n",
      "Epoch 2400: Cost=0.0\n",
      "Epoch 2500: Cost=0.0\n",
      "Epoch 2600: Cost=0.0\n",
      "Epoch 2700: Cost=0.0\n",
      "Epoch 2800: Cost=0.0\n",
      "Epoch 2900: Cost=0.0\n",
      "Epoch 3000: Cost=0.0\n",
      "Epoch 3100: Cost=0.0\n",
      "Epoch 3200: Cost=0.0\n",
      "Epoch 3300: Cost=0.0\n",
      "Epoch 3400: Cost=0.0\n",
      "Epoch 3500: Cost=0.0\n",
      "Epoch 3600: Cost=0.0\n",
      "Epoch 3700: Cost=0.0\n",
      "Epoch 3800: Cost=0.0\n",
      "Epoch 3900: Cost=0.0\n",
      "Epoch 4000: Cost=0.0\n",
      "Epoch 4100: Cost=0.0\n",
      "Epoch 4200: Cost=0.0\n",
      "Epoch 4300: Cost=0.0\n",
      "Epoch 4400: Cost=0.0\n",
      "Epoch 4500: Cost=0.0\n",
      "Epoch 4600: Cost=0.0\n",
      "Epoch 4700: Cost=0.0\n",
      "Epoch 4800: Cost=0.0\n",
      "Epoch 4900: Cost=0.0\n",
      "Epoch 5000: Cost=0.0\n",
      "Epoch 5100: Cost=0.0\n",
      "Epoch 5200: Cost=0.0\n",
      "Epoch 5300: Cost=0.0\n",
      "Epoch 5400: Cost=0.0\n",
      "Epoch 5500: Cost=0.0\n",
      "Epoch 5600: Cost=0.0\n",
      "Epoch 5700: Cost=0.0\n",
      "Epoch 5800: Cost=0.0\n",
      "Epoch 5900: Cost=0.0\n",
      "Epoch 6000: Cost=0.0\n",
      "Epoch 6100: Cost=0.0\n",
      "Epoch 6200: Cost=0.0\n",
      "Epoch 6300: Cost=0.0\n",
      "Epoch 6400: Cost=0.0\n",
      "Epoch 6500: Cost=0.0\n",
      "Epoch 6600: Cost=0.0\n",
      "Epoch 6700: Cost=0.0\n",
      "Epoch 6800: Cost=0.0\n",
      "Epoch 6900: Cost=0.0\n",
      "Epoch 7000: Cost=0.0\n",
      "Epoch 7100: Cost=0.0\n",
      "Epoch 7200: Cost=0.0\n",
      "Epoch 7300: Cost=0.0\n",
      "Epoch 7400: Cost=0.0\n",
      "Epoch 7500: Cost=0.0\n",
      "Epoch 7600: Cost=0.0\n",
      "Epoch 7700: Cost=0.0\n",
      "Epoch 7800: Cost=0.0\n",
      "Epoch 7900: Cost=0.0\n",
      "Epoch 8000: Cost=0.0\n",
      "Epoch 8100: Cost=0.0\n",
      "Epoch 8200: Cost=0.0\n",
      "Epoch 8300: Cost=0.0\n",
      "Epoch 8400: Cost=0.0\n",
      "Epoch 8500: Cost=0.0\n",
      "Epoch 8600: Cost=0.0\n",
      "Epoch 8700: Cost=0.0\n",
      "Epoch 8800: Cost=0.0\n",
      "Epoch 8900: Cost=0.0\n",
      "Epoch 9000: Cost=0.0\n",
      "Epoch 9100: Cost=0.0\n",
      "Epoch 9200: Cost=0.0\n",
      "Epoch 9300: Cost=0.0\n",
      "Epoch 9400: Cost=0.0\n",
      "Epoch 9500: Cost=0.0\n",
      "Epoch 9600: Cost=0.0\n",
      "Epoch 9700: Cost=0.0\n",
      "Epoch 9800: Cost=0.0\n",
      "Epoch 9900: Cost=0.0\n",
      "Weights: [0.5 0.5]\n",
      "Bias: 2.765601183019745e-17\n",
      "Final Cost: 0.0\n"
     ]
    }
   ],
   "source": [
    "# Make sure scaled_X and scaled_y are defined\n",
    "w_sgd, b_sgd, cost_list_sgd = stochastic_gradient_descent(\n",
    "    scaled_X, scaled_y.reshape(-1,), epochs=10000, learning_rate=0.01, verbose=True\n",
    ")\n",
    "\n",
    "print(\"Weights:\", w_sgd)\n",
    "print(\"Bias:\", b_sgd)\n",
    "print(\"Final Cost:\", cost_list_sgd[-1])\n"
   ]
  },
  {
   "cell_type": "code",
   "execution_count": 46,
   "id": "9f6149fc-c167-4546-afc4-1f2d87a1f90e",
   "metadata": {},
   "outputs": [
    {
     "data": {
      "text/plain": [
       "(array([0.5, 0.5]), np.float64(2.7755575615628914e-19))"
      ]
     },
     "execution_count": 46,
     "metadata": {},
     "output_type": "execute_result"
    }
   ],
   "source": [
    "w, b"
   ]
  },
  {
   "cell_type": "code",
   "execution_count": 48,
   "id": "b1c9e5c9-d8f0-43b9-8b5d-e1689e7e82be",
   "metadata": {},
   "outputs": [
    {
     "data": {
      "image/png": "[encoded data removed]",
      "text/plain": [
       "<Figure size 640x480 with 1 Axes>"
      ]
     },
     "metadata": {},
     "output_type": "display_data"
    }
   ],
   "source": [
    "import matplotlib.pyplot as plt\n",
    "\n",
    "epoch_list_sgd = [i*100 for i in range(len(cost_list_sgd))]\n",
    "\n",
    "# Plot\n",
    "plt.plot(epoch_list_sgd, cost_list_sgd)\n",
    "plt.xlabel(\"Epoch\")\n",
    "plt.ylabel(\"Cost\")\n",
    "plt.title(\"SGD Cost vs Epoch\")\n",
    "plt.show()\n"
   ]
  },
  {
   "cell_type": "markdown",
   "id": "999a0041-7c96-40fc-a688-62fe3513899e",
   "metadata": {},
   "source": [
    "Now we predict"
   ]
  },
  {
   "cell_type": "code",
   "execution_count": 49,
   "id": "ff930147-33db-4224-b42a-cb311016fe6a",
   "metadata": {},
   "outputs": [
    {
     "name": "stderr",
     "output_type": "stream",
     "text": [
      "C:\\Users\\muham\\anaconda3\\Lib\\site-packages\\sklearn\\utils\\validation.py:2739: UserWarning: X does not have valid feature names, but MinMaxScaler was fitted with feature names\n",
      "  warnings.warn(\n"
     ]
    },
    {
     "data": {
      "text/plain": [
       "array([[302801.72413793]])"
      ]
     },
     "execution_count": 49,
     "metadata": {},
     "output_type": "execute_result"
    }
   ],
   "source": [
    "predict(2600,4,w_sgd, b_sgd) "
   ]
  },
  {
   "cell_type": "code",
   "execution_count": 50,
   "id": "ab5781fe-9563-488f-b2c4-c2c46c67c9d5",
   "metadata": {},
   "outputs": [
    {
     "name": "stderr",
     "output_type": "stream",
     "text": [
      "C:\\Users\\muham\\anaconda3\\Lib\\site-packages\\sklearn\\utils\\validation.py:2739: UserWarning: X does not have valid feature names, but MinMaxScaler was fitted with feature names\n",
      "  warnings.warn(\n"
     ]
    },
    {
     "data": {
      "text/plain": [
       "array([[223922.4137931]])"
      ]
     },
     "execution_count": 50,
     "metadata": {},
     "output_type": "execute_result"
    }
   ],
   "source": [
    "predict(1000,2,w_sgd, b_sgd)"
   ]
  },
  {
   "cell_type": "code",
   "execution_count": 51,
   "id": "4250979d-828b-40bb-8fc3-e2eba14e318d",
   "metadata": {},
   "outputs": [
    {
     "name": "stderr",
     "output_type": "stream",
     "text": [
      "C:\\Users\\muham\\anaconda3\\Lib\\site-packages\\sklearn\\utils\\validation.py:2739: UserWarning: X does not have valid feature names, but MinMaxScaler was fitted with feature names\n",
      "  warnings.warn(\n"
     ]
    },
    {
     "data": {
      "text/plain": [
       "array([[255603.44827586]])"
      ]
     },
     "execution_count": 51,
     "metadata": {},
     "output_type": "execute_result"
    }
   ],
   "source": [
    "predict(1500,3,w_sgd, b_sgd)"
   ]
  },
  {
   "cell_type": "code",
   "execution_count": null,
   "id": "fb7f9dde-a278-4311-a9be-353fd24bcb3e",
   "metadata": {},
   "outputs": [],
   "source": []
  }
 ],
 "metadata": {
  "kernelspec": {
   "display_name": "Python 3 (ipykernel)",
   "language": "python",
   "name": "python3"
  },
  "language_info": {
   "codemirror_mode": {
    "name": "ipython",
    "version": 3
   },
   "file_extension": ".py",
   "mimetype": "text/x-python",
   "name": "python",
   "nbconvert_exporter": "python",
   "pygments_lexer": "ipython3",
   "version": "3.13.5"
  }
 },
 "nbformat": 4,
 "nbformat_minor": 5
}
